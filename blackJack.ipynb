{
 "cells": [
  {
   "cell_type": "code",
   "execution_count": 182,
   "id": "878832e4-d656-46ed-9abb-a95cd7b42123",
   "metadata": {},
   "outputs": [],
   "source": [
    "import random as rand\n",
    "import numpy as np\n",
    "import inquirer"
   ]
  },
  {
   "cell_type": "code",
   "execution_count": 192,
   "id": "ac690f2e-a79a-43d5-81d2-9bbc57c60c86",
   "metadata": {},
   "outputs": [
    {
     "data": {
      "text/plain": [
       "52"
      ]
     },
     "execution_count": 192,
     "metadata": {},
     "output_type": "execute_result"
    }
   ],
   "source": [
    "# Creating the deck \n",
    "\n",
    "deck = []\n",
    "for i in range(1,14):\n",
    "    i = str(i)\n",
    "    if i == '1':\n",
    "        i = 'Ace'\n",
    "    elif i == '11':\n",
    "        i = 'Jack'\n",
    "    elif i == '12':\n",
    "        i = 'Queen'\n",
    "    elif i == '13':\n",
    "        i = 'King'\n",
    "    else:\n",
    "        i=i\n",
    "    for j in ['\\U00002665', '\\U00002663', '\\U00002666', '\\U00002660']:\n",
    "        deck.append(i + ' ' + j)\n",
    "\n",
    "len(deck)"
   ]
  },
  {
   "cell_type": "code",
   "execution_count": 205,
   "id": "26b44fc6-388c-49fa-a202-f4234ed5861a",
   "metadata": {},
   "outputs": [
    {
     "name": "stdout",
     "output_type": "stream",
     "text": [
      "Ace ♥\n"
     ]
    }
   ],
   "source": [
    "print('Ace \\U00002665')"
   ]
  },
  {
   "cell_type": "code",
   "execution_count": 204,
   "id": "94d22639-b7cc-4966-8705-9e527d17917c",
   "metadata": {},
   "outputs": [
    {
     "data": {
      "text/plain": [
       "{'Ace ♥': 1,\n",
       " 'Ace ♣': 1,\n",
       " 'Ace ♦': 1,\n",
       " 'Ace ♠': 1,\n",
       " '2 ♥': 2,\n",
       " '2 ♣': 2,\n",
       " '2 ♦': 2,\n",
       " '2 ♠': 2,\n",
       " '3 ♥': 3,\n",
       " '3 ♣': 3,\n",
       " '3 ♦': 3,\n",
       " '3 ♠': 3,\n",
       " '4 ♥': 4,\n",
       " '4 ♣': 4,\n",
       " '4 ♦': 4,\n",
       " '4 ♠': 4,\n",
       " '5 ♥': 5,\n",
       " '5 ♣': 5,\n",
       " '5 ♦': 5,\n",
       " '5 ♠': 5,\n",
       " '6 ♥': 6,\n",
       " '6 ♣': 6,\n",
       " '6 ♦': 6,\n",
       " '6 ♠': 6,\n",
       " '7 ♥': 7,\n",
       " '7 ♣': 7,\n",
       " '7 ♦': 7,\n",
       " '7 ♠': 7,\n",
       " '8 ♥': 8,\n",
       " '8 ♣': 8,\n",
       " '8 ♦': 8,\n",
       " '8 ♠': 8,\n",
       " '9 ♥': 9,\n",
       " '9 ♣': 9,\n",
       " '9 ♦': 9,\n",
       " '9 ♠': 9,\n",
       " '10 ♥': 10,\n",
       " '10 ♣': 10,\n",
       " '10 ♦': 10,\n",
       " '10 ♠': 10,\n",
       " 'Jack ♥': 10,\n",
       " 'Jack ♣': 10,\n",
       " 'Jack ♦': 10,\n",
       " 'Jack ♠': 10,\n",
       " 'Queen ♥': 10,\n",
       " 'Queen ♣': 10,\n",
       " 'Queen ♦': 10,\n",
       " 'Queen ♠': 10,\n",
       " 'King ♥': 10,\n",
       " 'King ♣': 10,\n",
       " 'King ♦': 10,\n",
       " 'King ♠': 10}"
      ]
     },
     "execution_count": 204,
     "metadata": {},
     "output_type": "execute_result"
    }
   ],
   "source": [
    "cardValue = {}\n",
    "\n",
    "for i in deck:\n",
    "    if 'Ace' in i:\n",
    "        value = 1\n",
    "    elif [a for a in ['Jack', 'Queen', 'King'] if(a in i)]:\n",
    "        value = 10\n",
    "    else:\n",
    "        value = int(i[0:2])\n",
    "\n",
    "    cardValue[i] = value\n",
    "\n",
    "cardValue"
   ]
  },
  {
   "cell_type": "code",
   "execution_count": 165,
   "id": "ddbfe4f0-1ded-48de-a910-33bc0405ded0",
   "metadata": {},
   "outputs": [],
   "source": [
    "# Duplicate the deck\n",
    "\n",
    "deck = np.repeat(deck,2)\n",
    "deck = list(deck)"
   ]
  },
  {
   "cell_type": "code",
   "execution_count": 166,
   "id": "1fdad75f-ef43-47d5-b264-d52fcf22a6c9",
   "metadata": {
    "scrolled": true
   },
   "outputs": [],
   "source": [
    "# Shuffle the deck\n",
    "\n",
    "rand.shuffle(deck)"
   ]
  },
  {
   "cell_type": "code",
   "execution_count": 163,
   "id": "1dac5197-f85e-4e9d-b41b-47f47692994b",
   "metadata": {},
   "outputs": [
    {
     "data": {
      "text/plain": [
       "('3 Diamonds', 103)"
      ]
     },
     "execution_count": 163,
     "metadata": {},
     "output_type": "execute_result"
    }
   ],
   "source": [
    "# Dealing the cards from the deck\n",
    "\n",
    "deck.pop(0), len(deck)"
   ]
  },
  {
   "cell_type": "code",
   "execution_count": 180,
   "id": "42b9cae2-06d5-4b84-880a-18ada5896be7",
   "metadata": {},
   "outputs": [
    {
     "data": {
      "text/plain": [
       "(['1 Spades', '3 Clubs'], 14, ['7 Spades', '5 Hearts'], 12, 64)"
      ]
     },
     "execution_count": 180,
     "metadata": {},
     "output_type": "execute_result"
    }
   ],
   "source": [
    "# The game\n",
    "\n",
    "dealerHand = []\n",
    "playerHand = []\n",
    "\n",
    "dealerHand.append(deck.pop(0))\n",
    "playerHand.append(deck.pop(0))\n",
    "dealerHand.append(deck.pop(0))\n",
    "playerHand.append(deck.pop(0))\n",
    "\n",
    "dealerValue = sum([cardValue[x] for x in dealerHand])\n",
    "# dealerValue = cardValue[dealerHand[0]] + cardValue[dealerHand[1]]\n",
    "playerValue = cardValue[playerHand[0]] + cardValue[playerHand[1]]\n",
    "\n",
    "dealerHand, dealerValue, playerHand, playerValue, len(deck)"
   ]
  },
  {
   "cell_type": "code",
   "execution_count": 191,
   "id": "ac4d8d39-9f14-4e48-b11d-53a59b9d7a14",
   "metadata": {},
   "outputs": [
    {
     "name": "stdout",
     "output_type": "stream",
     "text": [
      "The dealer's face up card is: 3 Hearts\n",
      "The player's cards are: 2 Spades & 1 Diamonds\n",
      "There are 60 cards left in the deck.\n"
     ]
    }
   ],
   "source": [
    "def dealCards():\n",
    "    dealerHand = []\n",
    "    playerHand = []\n",
    "\n",
    "    dealerHand.append(deck.pop(0))\n",
    "    playerHand.append(deck.pop(0))\n",
    "    dealerHand.append(deck.pop(0))\n",
    "    playerHand.append(deck.pop(0))\n",
    "\n",
    "    print(\"The dealer's face up card is: \" + dealerHand[0])\n",
    "    print(\"The player's cards are: \" + playerHand[0] +\" & \" + playerHand[1])\n",
    "    print(\"There are \" + str(len(deck)) + \" cards left in the deck.\")\n",
    "    \n",
    "dealCards()"
   ]
  },
  {
   "cell_type": "code",
   "execution_count": 174,
   "id": "8099e678-0de8-4bf0-971b-1cba2f8140f1",
   "metadata": {},
   "outputs": [
    {
     "data": {
      "text/plain": [
       "(True, ['1 Spades', '10 Clubs'])"
      ]
     },
     "execution_count": 174,
     "metadata": {},
     "output_type": "execute_result"
    }
   ],
   "source": [
    "# Ace Checker \n",
    "ace = ['1 Hearts', '1 Clubs', '1 Diamonds', '1 Spades']\n",
    "any(a in dealerHand for a in ace), dealerHand"
   ]
  },
  {
   "cell_type": "code",
   "execution_count": 190,
   "id": "e5fb30ed-9b5b-471e-9d5e-0e2993e4a504",
   "metadata": {},
   "outputs": [
    {
     "name": "stdout",
     "output_type": "stream",
     "text": [
      "Player's move\n",
      "1) Hit\n",
      "2) Stand\n"
     ]
    },
    {
     "name": "stdin",
     "output_type": "stream",
     "text": [
      " 1\n"
     ]
    }
   ],
   "source": [
    "print(\"Player's move\")\n",
    "print(\"1) Hit\")\n",
    "print(\"2) Stand\")\n",
    "move = input()\n"
   ]
  }
 ],
 "metadata": {
  "kernelspec": {
   "display_name": "venv",
   "language": "python",
   "name": "venv"
  },
  "language_info": {
   "codemirror_mode": {
    "name": "ipython",
    "version": 3
   },
   "file_extension": ".py",
   "mimetype": "text/x-python",
   "name": "python",
   "nbconvert_exporter": "python",
   "pygments_lexer": "ipython3",
   "version": "3.10.12"
  }
 },
 "nbformat": 4,
 "nbformat_minor": 5
}
