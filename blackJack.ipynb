{
 "cells": [
  {
   "cell_type": "code",
   "execution_count": 8,
   "id": "878832e4-d656-46ed-9abb-a95cd7b42123",
   "metadata": {},
   "outputs": [],
   "source": [
    "import random"
   ]
  },
  {
   "cell_type": "code",
   "execution_count": 105,
   "id": "ac690f2e-a79a-43d5-81d2-9bbc57c60c86",
   "metadata": {},
   "outputs": [
    {
     "data": {
      "text/plain": [
       "52"
      ]
     },
     "execution_count": 105,
     "metadata": {},
     "output_type": "execute_result"
    }
   ],
   "source": [
    "# Creating the deck \n",
    "\n",
    "deck = []\n",
    "for i in range(1,14):\n",
    "    for j in ['Hearts', 'Clubs', 'Diamonds', 'Spades']:\n",
    "        deck.append(str(i) + ' ' + j)\n",
    "\n",
    "len(deck)"
   ]
  },
  {
   "cell_type": "code",
   "execution_count": 108,
   "id": "94d22639-b7cc-4966-8705-9e527d17917c",
   "metadata": {},
   "outputs": [
    {
     "data": {
      "text/plain": [
       "{'1 Hearts': 1,\n",
       " '1 Clubs': 1,\n",
       " '1 Diamonds': 1,\n",
       " '1 Spades': 1,\n",
       " '2 Hearts': 2,\n",
       " '2 Clubs': 2,\n",
       " '2 Diamonds': 2,\n",
       " '2 Spades': 2,\n",
       " '3 Hearts': 3,\n",
       " '3 Clubs': 3,\n",
       " '3 Diamonds': 3,\n",
       " '3 Spades': 3,\n",
       " '4 Hearts': 4,\n",
       " '4 Clubs': 4,\n",
       " '4 Diamonds': 4,\n",
       " '4 Spades': 4,\n",
       " '5 Hearts': 5,\n",
       " '5 Clubs': 5,\n",
       " '5 Diamonds': 5,\n",
       " '5 Spades': 5,\n",
       " '6 Hearts': 6,\n",
       " '6 Clubs': 6,\n",
       " '6 Diamonds': 6,\n",
       " '6 Spades': 6,\n",
       " '7 Hearts': 7,\n",
       " '7 Clubs': 7,\n",
       " '7 Diamonds': 7,\n",
       " '7 Spades': 7,\n",
       " '8 Hearts': 8,\n",
       " '8 Clubs': 8,\n",
       " '8 Diamonds': 8,\n",
       " '8 Spades': 8,\n",
       " '9 Hearts': 9,\n",
       " '9 Clubs': 9,\n",
       " '9 Diamonds': 9,\n",
       " '9 Spades': 9,\n",
       " '10 Hearts': 10,\n",
       " '10 Clubs': 10,\n",
       " '10 Diamonds': 10,\n",
       " '10 Spades': 10,\n",
       " '11 Hearts': 10,\n",
       " '11 Clubs': 10,\n",
       " '11 Diamonds': 10,\n",
       " '11 Spades': 10,\n",
       " '12 Hearts': 10,\n",
       " '12 Clubs': 10,\n",
       " '12 Diamonds': 10,\n",
       " '12 Spades': 10,\n",
       " '13 Hearts': 10,\n",
       " '13 Clubs': 10,\n",
       " '13 Diamonds': 10,\n",
       " '13 Spades': 10}"
      ]
     },
     "execution_count": 108,
     "metadata": {},
     "output_type": "execute_result"
    }
   ],
   "source": [
    "cardValue = {}\n",
    "\n",
    "for i in deck:\n",
    "    value = int(i[0:2])\n",
    "    \n",
    "    if value >= 10:\n",
    "        value = 10\n",
    "    else: \n",
    "        value = value\n",
    "\n",
    "    cardValue[i] = value\n",
    "    "
   ]
  },
  {
   "cell_type": "code",
   "execution_count": 109,
   "id": "1fdad75f-ef43-47d5-b264-d52fcf22a6c9",
   "metadata": {
    "scrolled": true
   },
   "outputs": [],
   "source": [
    "# Shuffle the deck\n",
    "\n",
    "random.shuffle(deck)"
   ]
  },
  {
   "cell_type": "code",
   "execution_count": 110,
   "id": "1dac5197-f85e-4e9d-b41b-47f47692994b",
   "metadata": {},
   "outputs": [
    {
     "data": {
      "text/plain": [
       "('12 Hearts', 51)"
      ]
     },
     "execution_count": 110,
     "metadata": {},
     "output_type": "execute_result"
    }
   ],
   "source": [
    "# Dealing the cards from the deck\n",
    "\n",
    "deck.pop(0), len(deck)"
   ]
  },
  {
   "cell_type": "code",
   "execution_count": 116,
   "id": "42b9cae2-06d5-4b84-880a-18ada5896be7",
   "metadata": {},
   "outputs": [
    {
     "data": {
      "text/plain": [
       "(['3 Spades', '13 Diamonds'], 13, ['8 Diamonds', '7 Hearts'], 15, 27)"
      ]
     },
     "execution_count": 116,
     "metadata": {},
     "output_type": "execute_result"
    }
   ],
   "source": [
    "# The game\n",
    "\n",
    "dealerHand = []\n",
    "playerHand = []\n",
    "\n",
    "dealerHand.append(deck.pop(0))\n",
    "playerHand.append(deck.pop(0))\n",
    "dealerHand.append(deck.pop(0))\n",
    "playerHand.append(deck.pop(0))\n",
    "\n",
    "dealerValue = cardValue[dealerHand[0]] + cardValue[dealerHand[1]]\n",
    "playerValue = cardValue[playerHand[0]] + cardValue[playerHand[1]]\n",
    "\n",
    "dealerHand, dealerValue, playerHand, playerValue, len(deck)"
   ]
  },
  {
   "cell_type": "code",
   "execution_count": 100,
   "id": "ac4d8d39-9f14-4e48-b11d-53a59b9d7a14",
   "metadata": {},
   "outputs": [
    {
     "name": "stdin",
     "output_type": "stream",
     "text": [
      " Apple\n"
     ]
    },
    {
     "data": {
      "text/plain": [
       "'Apple'"
      ]
     },
     "execution_count": 100,
     "metadata": {},
     "output_type": "execute_result"
    }
   ],
   "source": [
    "entry = input()\n",
    "entry"
   ]
  }
 ],
 "metadata": {
  "kernelspec": {
   "display_name": "venv",
   "language": "python",
   "name": "venv"
  },
  "language_info": {
   "codemirror_mode": {
    "name": "ipython",
    "version": 3
   },
   "file_extension": ".py",
   "mimetype": "text/x-python",
   "name": "python",
   "nbconvert_exporter": "python",
   "pygments_lexer": "ipython3",
   "version": "3.10.12"
  }
 },
 "nbformat": 4,
 "nbformat_minor": 5
}
