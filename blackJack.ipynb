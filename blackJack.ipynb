{
 "cells": [
  {
   "cell_type": "code",
   "execution_count": 8,
   "id": "878832e4-d656-46ed-9abb-a95cd7b42123",
   "metadata": {},
   "outputs": [],
   "source": [
    "import random"
   ]
  },
  {
   "cell_type": "code",
   "execution_count": 92,
   "id": "ac690f2e-a79a-43d5-81d2-9bbc57c60c86",
   "metadata": {},
   "outputs": [
    {
     "data": {
      "text/plain": [
       "52"
      ]
     },
     "execution_count": 92,
     "metadata": {},
     "output_type": "execute_result"
    }
   ],
   "source": [
    "# Creating the deck \n",
    "\n",
    "deck = []\n",
    "for i in range(1,14):\n",
    "    deck.extend([i,i,i,i])\n",
    "\n",
    "len(deck)"
   ]
  },
  {
   "cell_type": "code",
   "execution_count": 93,
   "id": "1fdad75f-ef43-47d5-b264-d52fcf22a6c9",
   "metadata": {
    "scrolled": true
   },
   "outputs": [],
   "source": [
    "# Shuffle the deck\n",
    "\n",
    "random.shuffle(deck)"
   ]
  },
  {
   "cell_type": "code",
   "execution_count": 78,
   "id": "1dac5197-f85e-4e9d-b41b-47f47692994b",
   "metadata": {},
   "outputs": [
    {
     "data": {
      "text/plain": [
       "(8, 51)"
      ]
     },
     "execution_count": 78,
     "metadata": {},
     "output_type": "execute_result"
    }
   ],
   "source": [
    "# Dealing the cards from the deck\n",
    "\n",
    "deck.pop(0), len(deck)"
   ]
  },
  {
   "cell_type": "code",
   "execution_count": 98,
   "id": "42b9cae2-06d5-4b84-880a-18ada5896be7",
   "metadata": {},
   "outputs": [
    {
     "data": {
      "text/plain": [
       "(16, 4, 32)"
      ]
     },
     "execution_count": 98,
     "metadata": {},
     "output_type": "execute_result"
    }
   ],
   "source": [
    "# The game\n",
    "\n",
    "dealerHand = []\n",
    "playerHand = []\n",
    "\n",
    "dealerHand.append(deck.pop(0))\n",
    "playerHand.append(deck.pop(0))\n",
    "dealerHand.append(deck.pop(0))\n",
    "playerHand.append(deck.pop(0))\n",
    "\n",
    "dealerValue = sum(dealerHand)\n",
    "playerValue = sum(playerHand)\n",
    "\n",
    "dealerValue, playerValue, len(deck)"
   ]
  }
 ],
 "metadata": {
  "kernelspec": {
   "display_name": "venv",
   "language": "python",
   "name": "venv"
  },
  "language_info": {
   "codemirror_mode": {
    "name": "ipython",
    "version": 3
   },
   "file_extension": ".py",
   "mimetype": "text/x-python",
   "name": "python",
   "nbconvert_exporter": "python",
   "pygments_lexer": "ipython3",
   "version": "3.10.12"
  }
 },
 "nbformat": 4,
 "nbformat_minor": 5
}
